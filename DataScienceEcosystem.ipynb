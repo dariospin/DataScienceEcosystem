{
 "cells": [
  {
   "cell_type": "markdown",
   "id": "4638d839-a516-4515-8863-c48157ddbe8e",
   "metadata": {},
   "source": [
    "# Data Science Tools and Ecosystem"
   ]
  },
  {
   "cell_type": "markdown",
   "id": "b10dbf19-0987-446d-874c-40c8b54942ce",
   "metadata": {},
   "source": [
    "In this notebook, Data Science Tools and Ecosystem are summarized"
   ]
  },
  {
   "cell_type": "markdown",
   "id": "98785c6c-5a69-4cf9-b723-809132eed0d7",
   "metadata": {},
   "source": [
    "**Objectives**\n",
    "- List some of the popular languages of data science\n",
    "- Commonly used libraries used by data scientist\n",
    "- Create a markdown cell introducing arithmetic expression"
   ]
  },
  {
   "cell_type": "markdown",
   "id": "c37bdd9d-8537-4254-b909-362a1414e809",
   "metadata": {},
   "source": [
    "Some Of The Popular Languages That Data Scientists Use Are:\n",
    "1. Python\n",
    "2. R\n",
    "3. C++"
   ]
  },
  {
   "cell_type": "markdown",
   "id": "cb2fef2c-8e04-4cc1-b651-a043c36dd47f",
   "metadata": {},
   "source": [
    "Some of the commonly used libraries used by Data Scientists include:\n",
    "1. Numpy\n",
    "2. Pandas\n",
    "3. Scipy"
   ]
  },
  {
   "cell_type": "markdown",
   "id": "2b6b260d-cec8-4cef-9cf4-08465b2e06fb",
   "metadata": {},
   "source": [
    "| Data Science Tools | Rstudio | Pytorch | Numpy |\n",
    "|:--------:|:--------:|:--------:|:-------|"
   ]
  },
  {
   "cell_type": "markdown",
   "id": "a9a54d4f-254d-4fe7-8e10-359e50e6d506",
   "metadata": {},
   "source": [
    "### Below are a few examples of evaluating arithmetic expressions in Python"
   ]
  },
  {
   "cell_type": "code",
   "execution_count": 15,
   "id": "c3c73e62-b941-47a5-982d-5c17b8666ce3",
   "metadata": {},
   "outputs": [
    {
     "data": {
      "text/plain": [
       "17"
      ]
     },
     "execution_count": 15,
     "metadata": {},
     "output_type": "execute_result"
    }
   ],
   "source": [
    "(3*4)+5"
   ]
  },
  {
   "cell_type": "markdown",
   "id": "759af189-b962-4561-80b7-5a5bf7db294b",
   "metadata": {},
   "source": [
    "This will convert 200 minutes to hours by diving by 60"
   ]
  },
  {
   "cell_type": "code",
   "execution_count": 16,
   "id": "acea4896-477f-4018-9cd9-894b3b718f94",
   "metadata": {},
   "outputs": [
    {
     "data": {
      "text/plain": [
       "3.3333333333333335"
      ]
     },
     "execution_count": 16,
     "metadata": {},
     "output_type": "execute_result"
    }
   ],
   "source": [
    "200/60"
   ]
  },
  {
   "cell_type": "markdown",
   "id": "d7addd5f-b3d3-4fd3-8ec3-299ffd2d7be6",
   "metadata": {},
   "source": [
    "## Author\n",
    "Dario Jose Espinal Ruiz"
   ]
  },
  {
   "cell_type": "code",
   "execution_count": null,
   "id": "f1aa11c8-f6f7-46b7-9194-8f3d8fb93bc0",
   "metadata": {},
   "outputs": [],
   "source": []
  }
 ],
 "metadata": {
  "kernelspec": {
   "display_name": "Python 3 (ipykernel)",
   "language": "python",
   "name": "python3"
  },
  "language_info": {
   "codemirror_mode": {
    "name": "ipython",
    "version": 3
   },
   "file_extension": ".py",
   "mimetype": "text/x-python",
   "name": "python",
   "nbconvert_exporter": "python",
   "pygments_lexer": "ipython3",
   "version": "3.11.7"
  }
 },
 "nbformat": 4,
 "nbformat_minor": 5
}
